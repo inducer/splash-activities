{
 "cells": [
  {
   "cell_type": "code",
   "execution_count": 13,
   "metadata": {},
   "outputs": [],
   "source": [
    "import matplotlib.pyplot as plt\n",
    "\n",
    "from ipywidgets import interact\n",
    "from ipywidgets.widgets import FloatSlider, Layout\n",
    "\n",
    "import numpy as np\n",
    "\n",
    "from matplotlib import animation\n",
    "from IPython.display import HTML"
   ]
  },
  {
   "cell_type": "code",
   "execution_count": 15,
   "metadata": {},
   "outputs": [
    {
     "data": {
      "application/vnd.jupyter.widget-view+json": {
       "model_id": "8fc58db0a8074282b79bda08573448f6",
       "version_major": 2,
       "version_minor": 0
      },
      "text/plain": [
       "interactive(children=(FloatSlider(value=5.0, description='init_speed_x', layout=Layout(width='6in'), max=10.0,…"
      ]
     },
     "metadata": {},
     "output_type": "display_data"
    },
    {
     "data": {
      "text/plain": [
       "<function __main__.shoot_cannon(init_speed_x, init_speed_y)>"
      ]
     },
     "execution_count": 15,
     "metadata": {},
     "output_type": "execute_result"
    }
   ],
   "source": [
    "def shoot_cannon(init_speed_x, init_speed_y):\n",
    "    x = 2\n",
    "    y = 2\n",
    "    x_speed = init_speed_x\n",
    "    y_speed = init_speed_y\n",
    "    dt = 0.05\n",
    "    \n",
    "    fig = plt.figure(figsize=(5, 5))\n",
    "    plt.xlim([0, 10])\n",
    "    plt.ylim([0, 10])\n",
    "    cannonball, = plt.plot(x, y, \"ro\")\n",
    "\n",
    "    def timestepper(n):\n",
    "        nonlocal x, y, x_speed, y_speed\n",
    "        \n",
    "        x += dt*x_speed\n",
    "        y += dt*y_speed\n",
    "        x_speed += dt*(0)\n",
    "        y_speed += dt*(-9.81)\n",
    "        \n",
    "        cannonball.set_data(x, y)\n",
    "        return [cannonball]\n",
    "    \n",
    "    ani = animation.FuncAnimation(fig, timestepper, frames=30, interval=100, repeat=False)\n",
    "    result = HTML(ani.to_html5_video())\n",
    "    plt.clf()\n",
    "    return result\n",
    "    \n",
    "interact(\n",
    "    shoot_cannon,\n",
    "    init_speed_x=FloatSlider(value=5, min=0, max=10, step=1, layout=Layout(width=\"6in\")),\n",
    "    init_speed_y=FloatSlider(value=5, min=0, max=10, step=1, layout=Layout(width=\"6in\")),\n",
    ")"
   ]
  },
  {
   "cell_type": "code",
   "execution_count": null,
   "metadata": {},
   "outputs": [],
   "source": []
  }
 ],
 "metadata": {
  "kernelspec": {
   "display_name": "Python 3",
   "language": "python",
   "name": "python3"
  },
  "language_info": {
   "codemirror_mode": {
    "name": "ipython",
    "version": 3
   },
   "file_extension": ".py",
   "mimetype": "text/x-python",
   "name": "python",
   "nbconvert_exporter": "python",
   "pygments_lexer": "ipython3",
   "version": "3.8.3"
  }
 },
 "nbformat": 4,
 "nbformat_minor": 4
}
