{
 "cells": [
  {
   "cell_type": "code",
   "execution_count": 4,
   "metadata": {},
   "outputs": [],
   "source": [
    "import matplotlib.pyplot as plt\n",
    "\n",
    "from ipywidgets import interact\n",
    "from ipywidgets.widgets import FloatSlider, Layout\n",
    "\n",
    "import numpy as np\n",
    "\n",
    "from matplotlib import animation\n",
    "from IPython.display import HTML"
   ]
  },
  {
   "cell_type": "code",
   "execution_count": 12,
   "metadata": {},
   "outputs": [
    {
     "data": {
      "text/plain": [
       "<Figure size 360x360 with 0 Axes>"
      ]
     },
     "metadata": {},
     "output_type": "display_data"
    },
    {
     "data": {
      "text/html": [
       "<video width=\"360\" height=\"360\" controls autoplay>\n",
       "  <source type=\"video/mp4\" src=\"data:video/mp4;base64,AAAAHGZ0eXBNNFYgAAACAGlzb21pc28yYXZjMQAAAAhmcmVlAAANfG1kYXQAAAKvBgX//6vcRem9\n",
       "5tlIt5Ys2CDZI+7veDI2NCAtIGNvcmUgMTU1IHIyOTE3IDBhODRkOTggLSBILjI2NC9NUEVHLTQg\n",
       "QVZDIGNvZGVjIC0gQ29weWxlZnQgMjAwMy0yMDE4IC0gaHR0cDovL3d3dy52aWRlb2xhbi5vcmcv\n",
       "eDI2NC5odG1sIC0gb3B0aW9uczogY2FiYWM9MSByZWY9MyBkZWJsb2NrPTE6MDowIGFuYWx5c2U9\n",
       "MHgzOjB4MTEzIG1lPWhleCBzdWJtZT03IHBzeT0xIHBzeV9yZD0xLjAwOjAuMDAgbWl4ZWRfcmVm\n",
       "PTEgbWVfcmFuZ2U9MTYgY2hyb21hX21lPTEgdHJlbGxpcz0xIDh4OGRjdD0xIGNxbT0wIGRlYWR6\n",
       "b25lPTIxLDExIGZhc3RfcHNraXA9MSBjaHJvbWFfcXBfb2Zmc2V0PS0yIHRocmVhZHM9MTEgbG9v\n",
       "a2FoZWFkX3RocmVhZHM9MSBzbGljZWRfdGhyZWFkcz0wIG5yPTAgZGVjaW1hdGU9MSBpbnRlcmxh\n",
       "Y2VkPTAgYmx1cmF5X2NvbXBhdD0wIGNvbnN0cmFpbmVkX2ludHJhPTAgYmZyYW1lcz0zIGJfcHly\n",
       "YW1pZD0yIGJfYWRhcHQ9MSBiX2JpYXM9MCBkaXJlY3Q9MSB3ZWlnaHRiPTEgb3Blbl9nb3A9MCB3\n",
       "ZWlnaHRwPTIga2V5aW50PTI1MCBrZXlpbnRfbWluPTEwIHNjZW5lY3V0PTQwIGludHJhX3JlZnJl\n",
       "c2g9MCByY19sb29rYWhlYWQ9NDAgcmM9Y3JmIG1idHJlZT0xIGNyZj0yMy4wIHFjb21wPTAuNjAg\n",
       "cXBtaW49MCBxcG1heD02OSBxcHN0ZXA9NCBpcF9yYXRpbz0xLjQwIGFxPTE6MS4wMACAAAAFGWWI\n",
       "hAAR//73iB8yy2n5OtdyEeetLq0fUO5GcV6kvf4gAACSPTznkjmEETb0gA19t7/bs33bgAK2AjVN\n",
       "OFDQhpszhdin46GFu/8uiQYelZFOepzwx608R+MsEKyjpGlJB4PswVG11Uy/diOBgZ71WlYPCp+M\n",
       "mP6IHecxLnSlR27XW0JVtxwa5UW60mlvGwktEf+QVbFlyCB8He4RclzYmmFWSrjk/4gOiCf3KHXu\n",
       "5VlKiB4B4O75RuRc90Ie9n8YLXRydInOYqrSpvrN2/DuXXTb/t5AAoAVwGmZPquYl8f0BGc0O3HP\n",
       "Bmh+wV8kWv+YqoshTBrRsDcC2wek4Zv0ZXVR7c5QI1ino3cDTrCH45/2NO2L/EJp2cta0j+oWjjZ\n",
       "Qo3WJqf3+dnepzIhSLuAqaTPsSJZ73/WLB369vbI3szYyo9f+x01rdDNxVRhiHlX/nd2FQDzof3l\n",
       "2V8XK6nl1HeYewfo7oY5lkNvLCk0F0DDnGmgNc8SydhnMLja3J7z8qrxAaI+OG2MuPtIeyyAAWHv\n",
       "5i4bIZmhNiE8AcW0JpP+iuF9wQTNKQsrPaXQml3iRF2g4NBSNjttr93YvjYOBoXkJq3ydTZMPkEm\n",
       "HjWEuTFV2Ex0kHQj3a9e5SptreRWrhCaNA1gNFVTx2IuucFHT03lN2QOxyzhBvl35mL9ZA47BqVa\n",
       "ngj1h4bvAbqXPv9WaKtucmOZE0MlGh6/5xVBgFDLl0xGGZwrr1hsl28Gg6YSWPxPGSXicquZJ1vP\n",
       "o3qjnvAxlL1jzEHOtPugtsld4238jwKo0nbjYLf5AopKjeqjFGUrLtzaTpAAlh71Pl0kmYQjU66q\n",
       "HsG54Cko/oLIAA3C9vMuSEcargA95QDfnK8HnrGPjNnYkprcb6c7V4xa3T4fZr+A42fM/1s7UqYC\n",
       "nP2RVkFKZvoaeQrNYbvJM9Kgm2vvXLu7Y8MvkWhOaf7pfDyE47ZUAij/OXjjcENtSbRMKhUl4I0W\n",
       "EcqaVT/uNORPqlNibgSpod4o1QnHBFNBd11LWk+g/cL94ebAwyApfPVCGgf/aUFC26ZPzfUzIGmu\n",
       "On1/ywDvCEHw2skwA08f4yfH5/yrmFMC74zWiunYDKXwrd5bhOkM1g4yL1kcI8Ul03+DqV86KNSX\n",
       "hjG4tlDeV2Qea11CmpEf2EfKut/itZDaKiyzjaOp0tSXlT6LZ0pv0/ACQgfMhV91lYFcqmivW9vl\n",
       "O8r6/IcoHRr87PJrY7KGR4/EFtJQ8/SvNsRODrgI3v+IbJYvY2PRB//Ev8IpuFTQrisaHEqJxHM8\n",
       "8ziQzwtRibzmAvPedubY0VtI9XvmdrZBFqNGcisxtvqjizlyUOt91yVuum07L8TvjQFZyKPAeZhC\n",
       "ldihoJEwyrIF56fO4HHVvTrousS6MN0uYvCYFdXP4Q7kdL8J1UVp03MtGJjioAs6ZmCN4drcr88F\n",
       "G2jS/2fvFjOgeJ80dsnWQGtAFdg1isng37MLly7YngPRaSteCTrRDn0JI87u8CzfIhnDfEr8vssd\n",
       "1zQ0sZYTixnmfb9wM+SoUeQpE4xMbB3rPCXfM9+l1O6dL952LGH7RVpwvSRD2iIHvvy1nMrW1n/a\n",
       "IA61boPvmsn/e1uRyuDmFFAlmE+B+MaxKzet5JGIuFVsj+taGdoyyeGWyB1h5Z1arDvE9+jWBQ8n\n",
       "T/lp6rbd+2BniKiWG8sft+VMl58kZ/BnehZJqHxPPJpbInZauXZX6tZrXQRPQAAsIQAAAI1BmiNs\n",
       "QR/+tSqAAAarcHZDxDOGwAC7SJ6c/Pa1Hr4ZILux0LJyA5i8Wx/ol8NSWRqHoxja3fIre56Jt2RE\n",
       "RrhznLtNxaKWxn5HgrFiKiooEsYOo3uoUWHuSqjYMRaLGHTFpbI11Nry1BvjYYheheA0I8Y1558a\n",
       "+LhKPdHmdR2+IfOirh+dTpFHVho8FGQAAABtQZ5BeIb/AAAlWdfBVv7gCtVoRbdCcPC50h9R9fSq\n",
       "2dpMsKXeQoEGoD7JQ8+iawrvXcu/Hm2NLj/h/ssP4Zo4oZF8XpS+jGrsMEsyHhp2n6YDvWziZayB\n",
       "2OqNr5k7EBflVG6DBwB8tHs9awc7wQAAACABnmJqQ38AACWv/BEh6ACtSvPkgY0eeVu7KeEmivTf\n",
       "NAAAAJdBmmZJqEFomUwIIf/+qlUAABeOG/wjmBAATrbZK0FfCdAuVvBiJBm+xlg4Peym30GHhsdM\n",
       "a6vwzsYbxNdc4mVjyHwFKhG+gQcH6MRGdOekpUEqw2GPcQNzjrb3gj8TJw3uRy3JoDOo5ZXyN0Vs\n",
       "I4hHiNzEiMZlY3tgXddnNOarkNe/QHYWNHW00xjL4b8XN0nbsxOroiv9AAAAJEGehEURLDf/AAA/\n",
       "hQgRr+LPsw3ACRb/3x2pRb52h7nYicWe4QAAACMBnqVqQ38AAEFjK910MA+6iYnswAfQV8Pvp/t5\n",
       "61Zo08Ke4QAAAI9BmqpJqEFsmUwIIf/+qlUAABePi9QPqEoycm10AG1XnJRgXOMeYExB5mvF7KbD\n",
       "hAq+8WKiX3mCaYxr11bYBRjLvXkgCOXiSvdClOW4FEKHf8gj9LwkWXPJgVdXNuVCwyZeSZnk48fA\n",
       "1kzeReW6fgSkSI1n+uIVT91DNtSmVlPdez/cjT2Rey3tjiJfYqNB5wAAAHBBnshFFSw7/wAALcYQ\n",
       "Kfgu5RgAulCKDV2g5HuSK4WYDgmf2TcGg/tFI9amtmfLm/Doai1jhIWM0WcOuNLMnYUAprObVTMh\n",
       "WRcueh67zGhlP4CBdNBy2PjxnJ3M0CeQzZ/HVz3rZQKDg9QkFPEne2/QAAAAIAGe53RDfwAAP3pP\n",
       "axggKARKpZQAtIdIEFr0sWTZPAN4AAAAIAGe6WpDfwAAPiOggCcOeAEiKz+iXwdQ4IrXAN8QSKe3\n",
       "AAAAL0Ga60moQWyZTAgh//6qVQAAFk5KRSmGyZcOIAJSGS7rT9h8rA/+p/qevmIu21OAAAAAZEGb\n",
       "DknhClJlMCH//qmWAABXfhWi/gTPo5sNEl21tPFeZIJTERK7wn4rLlU68ovkUeFkhNDEihqBIxw4\n",
       "uGiPVozO/2DVM/WLXXhE9c+08A5xG/es/KxQKrFM2YT3wXrlWThZeC4AAAAiQZ8sRTRMN/8AADy9\n",
       "r9DdH45swTAAGcjs03ovl0NLTMtnCQAAACIBn01qQ38AADtdwAkdyGYADUZhKYAfCOmO+VHYw2fh\n",
       "HN/7AAAANEGbT0moQWiZTAh///6plgAALbW/ucg0saQTAA50wXk1lleORarY+R0h4z3+iufE8Ap5\n",
       "f8EAAABtQZtxSeEKUmUwURLD//6plgAALf8K46h9NBumx8xHqAA68jn/g75Nx5ZizpEuvp8H1Crf\n",
       "utbmX/ckTfwkJwdCg9MvqQ6u46p4kw7NZU8JAqOau3rkcnAJYMoRVLY2eqZqBDOrTc3IGEbNdNcZ\n",
       "wAAAAB0Bn5BqQ38AAB/B0Hx1qqpA5u24AJTAdZj+Br3gQAAAAG5Bm5NJ4Q6JlMFEw3/+p4QAADD2\n",
       "oNH+El7MADj3IS1etl/W8ZvMWMojoDcp7Wai8ro9Nn/vKaKcCaD2r9K/ltXIjuvucVwx77/KTy8i\n",
       "kgfKGg/lN+g/s6rgYg4d2JqqT3n8ZiKGFVuSGgff1V/hDwAAAB4Bn7JqQ38AABFOYduJqNABWsoX\n",
       "RlEmK1QmjoPQkWYAAAQHbW9vdgAAAGxtdmhkAAAAAAAAAAAAAAAAAAAD6AAAB9AAAQAAAQAAAAAA\n",
       "AAAAAAAAAAEAAAAAAAAAAAAAAAAAAAABAAAAAAAAAAAAAAAAAABAAAAAAAAAAAAAAAAAAAAAAAAA\n",
       "AAAAAAAAAAAAAAAAAgAAAzF0cmFrAAAAXHRraGQAAAADAAAAAAAAAAAAAAABAAAAAAAAB9AAAAAA\n",
       "AAAAAAAAAAAAAAAAAAEAAAAAAAAAAAAAAAAAAAABAAAAAAAAAAAAAAAAAABAAAAAAWgAAAFoAAAA\n",
       "AAAkZWR0cwAAABxlbHN0AAAAAAAAAAEAAAfQAAAIAAABAAAAAAKpbWRpYQAAACBtZGhkAAAAAAAA\n",
       "AAAAAAAAAAAoAAAAUABVxAAAAAAALWhkbHIAAAAAAAAAAHZpZGUAAAAAAAAAAAAAAABWaWRlb0hh\n",
       "bmRsZXIAAAACVG1pbmYAAAAUdm1oZAAAAAEAAAAAAAAAAAAAACRkaW5mAAAAHGRyZWYAAAAAAAAA\n",
       "AQAAAAx1cmwgAAAAAQAAAhRzdGJsAAAAtHN0c2QAAAAAAAAAAQAAAKRhdmMxAAAAAAAAAAEAAAAA\n",
       "AAAAAAAAAAAAAAAAAWgBaABIAAAASAAAAAAAAAABAAAAAAAAAAAAAAAAAAAAAAAAAAAAAAAAAAAA\n",
       "AAAAAAAAGP//AAAAMmF2Y0MBZAAV/+EAGWdkABWs2UFwv5ZYQAAAAwBAAAAFA8WLZYABAAZo6+PL\n",
       "IsAAAAAcdXVpZGtoQPJfJE/FujmlG88DI/MAAAAAAAAAGHN0dHMAAAAAAAAAAQAAABQAAAQAAAAA\n",
       "FHN0c3MAAAAAAAAAAQAAAAEAAACYY3R0cwAAAAAAAAARAAAAAQAACAAAAAABAAAQAAAAAAIAAAQA\n",
       "AAAAAQAAEAAAAAACAAAEAAAAAAEAABQAAAAAAQAACAAAAAABAAAAAAAAAAEAAAQAAAAAAQAACAAA\n",
       "AAABAAAQAAAAAAIAAAQAAAAAAQAACAAAAAABAAAMAAAAAAEAAAQAAAAAAQAADAAAAAABAAAEAAAA\n",
       "ABxzdHNjAAAAAAAAAAEAAAABAAAAFAAAAAEAAABkc3RzegAAAAAAAAAAAAAAFAAAB9AAAACRAAAA\n",
       "cQAAACQAAACbAAAAKAAAACcAAACTAAAAdAAAACQAAAAkAAAAMwAAAGgAAAAmAAAAJgAAADgAAABx\n",
       "AAAAIQAAAHIAAAAiAAAAFHN0Y28AAAAAAAAAAQAAACwAAABidWR0YQAAAFptZXRhAAAAAAAAACFo\n",
       "ZGxyAAAAAAAAAABtZGlyYXBwbAAAAAAAAAAAAAAAAC1pbHN0AAAAJal0b28AAAAdZGF0YQAAAAEA\n",
       "AAAATGF2ZjU4LjI5LjEwMA==\n",
       "\">\n",
       "  Your browser does not support the video tag.\n",
       "</video>"
      ],
      "text/plain": [
       "<IPython.core.display.HTML object>"
      ]
     },
     "metadata": {},
     "output_type": "display_data"
    },
    {
     "data": {
      "text/plain": [
       "<function __main__.shoot_cannon(init_speed_x, init_speed_y)>"
      ]
     },
     "execution_count": 12,
     "metadata": {},
     "output_type": "execute_result"
    }
   ],
   "source": [
    "def shoot_cannon(init_speed_x, init_speed_y):\n",
    "    x = 2\n",
    "    y = 2\n",
    "    x_speed = init_speed_x\n",
    "    y_speed = init_speed_y\n",
    "    dt = 0.05\n",
    "    \n",
    "    fig = plt.figure(figsize=(5, 5))\n",
    "    plt.xlim([0, 10])\n",
    "    plt.ylim([0, 10])\n",
    "    cannonball, = plt.plot(x, y, \"ro\")\n",
    "\n",
    "    def timestepper(n):\n",
    "        nonlocal x, y, x_speed, y_speed\n",
    "        \n",
    "        x += dt*x_speed\n",
    "        y += dt*y_speed\n",
    "        x_speed += dt*(0)\n",
    "        y_speed += dt*(-9.81)\n",
    "        \n",
    "        cannonball.set_data(x, y)\n",
    "        return [cannonball]\n",
    "    \n",
    "    ani = animation.FuncAnimation(fig, timestepper, frames=20, interval=100, repeat=False)\n",
    "    result = HTML(ani.to_html5_video())\n",
    "    plt.clf()\n",
    "    return result\n",
    "    \n",
    "interact(\n",
    "    shoot_cannon,\n",
    "    init_speed_x=FloatSlider(value=5, min=0, max=10, step=1, layout=Layout(width=\"6in\")),\n",
    "    init_speed_y=FloatSlider(value=5, min=0, max=10, step=1, layout=Layout(width=\"6in\")),\n",
    ")"
   ]
  },
  {
   "cell_type": "code",
   "execution_count": null,
   "metadata": {},
   "outputs": [],
   "source": []
  }
 ],
 "metadata": {
  "kernelspec": {
   "display_name": "Python 3",
   "language": "python",
   "name": "python3"
  },
  "language_info": {
   "codemirror_mode": {
    "name": "ipython",
    "version": 3
   },
   "file_extension": ".py",
   "mimetype": "text/x-python",
   "name": "python",
   "nbconvert_exporter": "python",
   "pygments_lexer": "ipython3",
   "version": "3.8.3"
  }
 },
 "nbformat": 4,
 "nbformat_minor": 4
}
