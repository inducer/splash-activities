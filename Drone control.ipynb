{
 "cells": [
  {
   "cell_type": "markdown",
   "metadata": {},
   "source": [
    "# Notebook Interactivity Mock-Up: Drones\n",
    "\n",
    "The code below gives you a sense about how much interactivity we can achieve in a notebook."
   ]
  },
  {
   "cell_type": "code",
   "execution_count": 8,
   "metadata": {},
   "outputs": [],
   "source": [
    "import matplotlib.pyplot as plt\n",
    "\n",
    "from ipywidgets import interact\n",
    "from ipywidgets.widgets import FloatSlider, Layout\n",
    "\n",
    "import numpy as np\n",
    "\n",
    "from matplotlib import animation\n",
    "from IPython.display import HTML"
   ]
  },
  {
   "cell_type": "code",
   "execution_count": 14,
   "metadata": {},
   "outputs": [
    {
     "data": {
      "application/vnd.jupyter.widget-view+json": {
       "model_id": "c603126769554038800ab9d245f0a0a3",
       "version_major": 2,
       "version_minor": 0
      },
      "text/plain": [
       "interactive(children=(FloatSlider(value=5.0, description='dest_x', layout=Layout(width='6in'), max=10.0, step=…"
      ]
     },
     "metadata": {},
     "output_type": "display_data"
    },
    {
     "data": {
      "text/plain": [
       "<function __main__.fly_drone(dest_x, dest_y)>"
      ]
     },
     "execution_count": 14,
     "metadata": {},
     "output_type": "execute_result"
    }
   ],
   "source": [
    "def fly_drone(dest_x, dest_y):\n",
    "    x = 2\n",
    "    y = 2\n",
    "    dt = 0.2\n",
    "    \n",
    "    fig = plt.figure(figsize=(5, 5))\n",
    "    plt.xlim([0, 10])\n",
    "    plt.ylim([0, 10])\n",
    "    drone, = plt.plot(x, y, \"ro\")\n",
    "    target, = plt.plot(dest_x, dest_y, \"bx\")\n",
    "\n",
    "    def timestepper(n):\n",
    "        nonlocal x, y\n",
    "        \n",
    "        x += dt*(dest_x-x)\n",
    "        y += dt*(dest_y-y)\n",
    "        \n",
    "        drone.set_data(x, y)\n",
    "        return [drone]\n",
    "    \n",
    "    ani = animation.FuncAnimation(fig, timestepper, frames=20, interval=100, repeat=False)\n",
    "    result = HTML(ani.to_html5_video())\n",
    "    plt.clf()\n",
    "    return result\n",
    "    \n",
    "interact(\n",
    "    fly_drone,\n",
    "    dest_x=FloatSlider(value=5, min=0, max=10, step=1, layout=Layout(width=\"6in\")),\n",
    "    dest_y=FloatSlider(value=5, min=0, max=10, step=1, layout=Layout(width=\"6in\")),\n",
    ")"
   ]
  },
  {
   "cell_type": "code",
   "execution_count": null,
   "metadata": {},
   "outputs": [],
   "source": []
  }
 ],
 "metadata": {
  "kernelspec": {
   "display_name": "Python 3",
   "language": "python",
   "name": "python3"
  },
  "language_info": {
   "codemirror_mode": {
    "name": "ipython",
    "version": 3
   },
   "file_extension": ".py",
   "mimetype": "text/x-python",
   "name": "python",
   "nbconvert_exporter": "python",
   "pygments_lexer": "ipython3",
   "version": "3.7.7"
  }
 },
 "nbformat": 4,
 "nbformat_minor": 4
}
