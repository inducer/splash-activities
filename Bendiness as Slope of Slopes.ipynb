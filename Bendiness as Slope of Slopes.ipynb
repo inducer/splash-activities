{
 "cells": [
  {
   "cell_type": "code",
   "execution_count": null,
   "metadata": {},
   "outputs": [],
   "source": [
    "import matplotlib.pyplot as plt\n",
    "import numpy as np\n",
    "%matplotlib inline\n",
    "from ipywidgets import interact, interactive, fixed, interact_manual\n",
    "import ipywidgets as widgets\n",
    "\n",
    "def lolipop_plot(ax, x, y, title):\n",
    "    markerline, stemlines, baseline = ax.stem(x, y)\n",
    "    ax.set_title(title)\n",
    "    plt.setp(markerline, 'markerfacecolor', 'b')\n",
    "    plt.setp(baseline, 'color','r', 'linewidth', 2) "
   ]
  },
  {
   "cell_type": "markdown",
   "metadata": {},
   "source": [
    "Consider the bendy curve below."
   ]
  },
  {
   "cell_type": "code",
   "execution_count": null,
   "metadata": {},
   "outputs": [],
   "source": [
    "x = np.linspace(0, 6.28, 100)\n",
    "y = np.sin(x)\n",
    "\n",
    "plt.plot(x, y)\n",
    "plt.grid()"
   ]
  },
  {
   "cell_type": "markdown",
   "metadata": {},
   "source": [
    "# Slope of Bendy curves\n",
    "\n",
    "As we learned from the previous exercise that slope of bendy curves depends on what points we choose to find the slopes. This makes them different from lines whose slope is independent of the points we choose to calculate the slopes.\n",
    "\n",
    "To circumvent this problem of variable slopes there is a very easy solution which is highlighted by the activity below. In short, we can break up a curve into very tiny lines and we could calculate the slope of the curves with the help of those lines.\n",
    "\n",
    "## \"Bendiness is the slope of slopes\"."
   ]
  },
  {
   "cell_type": "code",
   "execution_count": null,
   "metadata": {},
   "outputs": [],
   "source": [
    "def plot_slope_bendiness(dx):\n",
    "    x_continuous = np.linspace(0, 6.28, 1000)\n",
    "    y_continuous = np.sin(x_continuous)\n",
    "    \n",
    "    x_discrete = np.arange(0, 6.28, dx)\n",
    "    y_discrete = np.sin(x_discrete)\n",
    "    \n",
    "    changes = y_discrete[1:]-y_discrete[:-1]\n",
    "    slopes = changes/dx\n",
    "    \n",
    "    change_of_slopes = slopes[1:]-slopes[:-1]\n",
    "    slope_of_slopes = change_of_slopes/dx\n",
    "    \n",
    "    f, axarr = plt.subplots(6, sharex=True, sharey=True)\n",
    "    f.set_figheight(15)\n",
    "    f.set_figwidth(15)\n",
    "    axarr[0].plot(x_continuous, y_continuous)\n",
    "    axarr[0].set_title('Continous curve')\n",
    "    axarr[1].plot(x_discrete, y_discrete, 'o', markersize=4)\n",
    "    axarr[1].set_title('Discretized function')\n",
    "    lolipop_plot(axarr[2], x_discrete[1:], changes, 'Change between the discrete points')\n",
    "    lolipop_plot(axarr[3], x_discrete[1:], slopes, 'Slopes at the discrete points')\n",
    "    lolipop_plot(axarr[4], x_discrete[1:-1], change_of_slopes, 'Change between the discrete slopes.')\n",
    "    lolipop_plot(axarr[5], x_discrete[1:-1], slope_of_slopes, 'Slope of slopes at the discrete points.')\n",
    "\n",
    "    \n",
    "interact(plot_slope_bendiness,\n",
    "            dx=widgets.FloatSlider(min=0.1, max=1, step=0.05, value=0.5, continuous_update=False))\n",
    "    "
   ]
  },
  {
   "cell_type": "code",
   "execution_count": null,
   "metadata": {},
   "outputs": [],
   "source": []
  }
 ],
 "metadata": {
  "kernelspec": {
   "display_name": "Python 3",
   "language": "python",
   "name": "python3"
  },
  "language_info": {
   "codemirror_mode": {
    "name": "ipython",
    "version": 3
   },
   "file_extension": ".py",
   "mimetype": "text/x-python",
   "name": "python",
   "nbconvert_exporter": "python",
   "pygments_lexer": "ipython3",
   "version": "3.6.3"
  }
 },
 "nbformat": 4,
 "nbformat_minor": 2
}
